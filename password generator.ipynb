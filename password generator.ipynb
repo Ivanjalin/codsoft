{
 "cells": [
  {
   "cell_type": "code",
   "execution_count": null,
   "metadata": {},
   "outputs": [],
   "source": []
  },
  {
   "cell_type": "code",
   "execution_count": 1,
   "metadata": {},
   "outputs": [
    {
     "name": "stdout",
     "output_type": "stream",
     "text": [
      "rmciigsrA*1\n"
     ]
    }
   ],
   "source": [
    "import random\n",
    "\n",
    "alphabet = ['a', 'b', 'c', 'd', 'e', 'f', 'g', 'h', 'i', 'j', 'k', 'l', 'm', 'n', 'o', 'p', 'q', 'r', 's', 't', 'u', 'v', 'w', 'x', 'y', 'z']\n",
    "symbols = ['!', '@', '#', '$', '%', '^', '&', '*', '(', ')', '?']\n",
    "numbers = ['1', '2', '3', '4', '5', '6', '7', '8', '9', '0']\n",
    "password = []\n",
    "\n",
    "strength = input(\"You want your password to be 'STRONG' or 'WEAK' : \").lower()\n",
    "\n",
    "if strength == 'strong':\n",
    "    while len(password) < 8:\n",
    "        password.append(random.choice(alphabet))\n",
    "    password.append(random.choice(alphabet).upper())\n",
    "    password.append(random.choice(symbols))\n",
    "    password.append(random.choice(numbers))\n",
    "elif strength == 'weak':\n",
    "    while len(password) < 8:\n",
    "        password.append(random.choice(alphabet))\n",
    "    password.append(random.choice(alphabet).upper())\n",
    "\n",
    "password = \"\".join(password)\n",
    "print(password)\n"
   ]
  },
  {
   "cell_type": "code",
   "execution_count": null,
   "metadata": {},
   "outputs": [],
   "source": []
  }
 ],
 "metadata": {
  "kernelspec": {
   "display_name": "Python 3",
   "language": "python",
   "name": "python3"
  },
  "language_info": {
   "codemirror_mode": {
    "name": "ipython",
    "version": 3
   },
   "file_extension": ".py",
   "mimetype": "text/x-python",
   "name": "python",
   "nbconvert_exporter": "python",
   "pygments_lexer": "ipython3",
   "version": "3.11.5"
  }
 },
 "nbformat": 4,
 "nbformat_minor": 2
}
