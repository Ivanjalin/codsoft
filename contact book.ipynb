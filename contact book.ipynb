{
 "cells": [
  {
   "cell_type": "code",
   "execution_count": 2,
   "metadata": {},
   "outputs": [
    {
     "name": "stdout",
     "output_type": "stream",
     "text": [
      "Contact John Doe added successfully.\n",
      "Contact Jane Smith added successfully.\n",
      "Contacts:\n",
      "Name: John Doe, Phone: 123-456-7890, Email: john@example.com\n",
      "Name: Jane Smith, Phone: 987-654-3210, Email: jane@example.com\n"
     ]
    }
   ],
   "source": [
    "class Contact:\n",
    "    def __init__(self, name, phone, email):\n",
    "        self.name = name\n",
    "        self.phone = phone\n",
    "        self.email = email\n",
    "\n",
    "class ContactBook:\n",
    "    def __init__(self):\n",
    "        self.contacts = []\n",
    "\n",
    "    def add_contact(self, contact):\n",
    "        self.contacts.append(contact)\n",
    "        print(f\"Contact {contact.name} added successfully.\")\n",
    "\n",
    "    def display_contacts(self):\n",
    "        if not self.contacts:\n",
    "            print(\"No contacts in the contact book.\")\n",
    "        else:\n",
    "            print(\"Contacts:\")\n",
    "            for contact in self.contacts:\n",
    "                print(f\"Name: {contact.name}, Phone: {contact.phone}, Email: {contact.email}\")\n",
    "\n",
    "# Example usage:\n",
    "contact_book = ContactBook()\n",
    "\n",
    "# Adding contacts\n",
    "contact1 = Contact(\"John Doe\", \"123-456-7890\", \"john@example.com\")\n",
    "contact2 = Contact(\"Jane Smith\", \"987-654-3210\", \"jane@example.com\")\n",
    "\n",
    "contact_book.add_contact(contact1)\n",
    "contact_book.add_contact(contact2)\n",
    "\n",
    "# Displaying contacts\n",
    "contact_book.display_contacts()\n"
   ]
  },
  {
   "cell_type": "code",
   "execution_count": null,
   "metadata": {},
   "outputs": [],
   "source": []
  }
 ],
 "metadata": {
  "kernelspec": {
   "display_name": "Python 3",
   "language": "python",
   "name": "python3"
  },
  "language_info": {
   "codemirror_mode": {
    "name": "ipython",
    "version": 3
   },
   "file_extension": ".py",
   "mimetype": "text/x-python",
   "name": "python",
   "nbconvert_exporter": "python",
   "pygments_lexer": "ipython3",
   "version": "3.11.5"
  }
 },
 "nbformat": 4,
 "nbformat_minor": 2
}
