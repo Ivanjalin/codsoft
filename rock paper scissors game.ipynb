{
 "cells": [
  {
   "cell_type": "code",
   "execution_count": null,
   "metadata": {},
   "outputs": [],
   "source": [
    "def get_user_choice(player_name):\n",
    "    while True:\n",
    "        user_choice = input(f\"{player_name}, choose rock, paper, or scissors: \").lower()\n",
    "        if user_choice in ['rock', 'paper', 'scissors']:\n",
    "            return user_choice\n",
    "        else:\n",
    "            print(\"Invalid choice. Please enter rock, paper, or scissors.\")\n",
    "\n",
    "def determine_winner(player1_choice, player2_choice):\n",
    "    if player1_choice == player2_choice:\n",
    "        return \"It's a tie!\"\n",
    "    elif (player1_choice == 'rock' and player2_choice == 'scissors') or \\\n",
    "         (player1_choice == 'scissors' and player2_choice == 'paper') or \\\n",
    "         (player1_choice == 'paper' and player2_choice == 'rock'):\n",
    "        return f\"{player1_name} wins!\"\n",
    "    else:\n",
    "        return f\"{player2_name} wins!\"\n",
    "\n",
    "# Get player names\n",
    "player1_name = input(\"Enter Player 1's name: \")\n",
    "player2_name = input(\"Enter Player 2's name: \")\n",
    "\n",
    "# Get choices from players\n",
    "player1_choice = get_user_choice(player1_name)\n",
    "player2_choice = get_user_choice(player2_name)\n",
    "\n",
    "# Determine and print the winner\n",
    "result = determine_winner(player1_choice, player2_choice)\n",
    "print(result)\n"
   ]
  }
 ],
 "metadata": {
  "language_info": {
   "name": "python"
  }
 },
 "nbformat": 4,
 "nbformat_minor": 2
}
