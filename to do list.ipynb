{
 "cells": [
  {
   "cell_type": "code",
   "execution_count": 2,
   "metadata": {},
   "outputs": [
    {
     "name": "stdout",
     "output_type": "stream",
     "text": [
      "Task \"Buy groceries\" added to the to-do list.\n",
      "Task \"Complete homework\" added to the to-do list.\n",
      "To-Do List:\n",
      "1. Buy groceries\n",
      "2. Complete homework\n",
      "Task \"Buy groceries\" removed from the to-do list.\n",
      "To-Do List:\n",
      "1. Complete homework\n"
     ]
    }
   ],
   "source": [
    "class ToDoList:\n",
    "    def __init__(self):\n",
    "        self.tasks = []\n",
    "\n",
    "    def add_task(self, task):\n",
    "        self.tasks.append(task)\n",
    "        print(f'Task \"{task}\" added to the to-do list.')\n",
    "\n",
    "    def view_tasks(self):\n",
    "        if not self.tasks:\n",
    "            print('No tasks in the to-do list.')\n",
    "        else:\n",
    "            print('To-Do List:')\n",
    "            for i, task in enumerate(self.tasks, 1):\n",
    "                print(f'{i}. {task}')\n",
    "\n",
    "    def remove_task(self, task_index):\n",
    "        if 1 <= task_index <= len(self.tasks):\n",
    "            removed_task = self.tasks.pop(task_index - 1)\n",
    "            print(f'Task \"{removed_task}\" removed from the to-do list.')\n",
    "        else:\n",
    "            print('Invalid task index.')\n",
    "\n",
    "# Example usage:\n",
    "my_todo_list = ToDoList()\n",
    "my_todo_list.add_task('Buy groceries')\n",
    "my_todo_list.add_task('Complete homework')\n",
    "my_todo_list.view_tasks()\n",
    "my_todo_list.remove_task(1)\n",
    "my_todo_list.view_tasks()\n"
   ]
  },
  {
   "cell_type": "code",
   "execution_count": null,
   "metadata": {},
   "outputs": [],
   "source": []
  }
 ],
 "metadata": {
  "kernelspec": {
   "display_name": "Python 3",
   "language": "python",
   "name": "python3"
  },
  "language_info": {
   "codemirror_mode": {
    "name": "ipython",
    "version": 3
   },
   "file_extension": ".py",
   "mimetype": "text/x-python",
   "name": "python",
   "nbconvert_exporter": "python",
   "pygments_lexer": "ipython3",
   "version": "3.11.5"
  }
 },
 "nbformat": 4,
 "nbformat_minor": 2
}
